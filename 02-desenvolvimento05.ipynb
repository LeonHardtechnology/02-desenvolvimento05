def calculadora():
    while True:
        # Mostra o menu de opções
        print("\nEscolha a operação:")
        print("1: Soma")
        print("2: Subtração")
        print("3: Multiplicação")
        print("4: Divisão")
        print("0: Sair")

        # Lê a opção do usuário
        opcao = input("Digite o número para a operação correspondente: ")

        if opcao == '0':
            print("Saindo do programa...")
            break
        elif opcao in ['1', '2', '3', '4']:
            # Lê os números do usuário
            try:
                num1 = float(input("Digite o primeiro número: "))
                num2 = float(input("Digite o segundo número: "))
            except ValueError:
                print("Entrada inválida! Por favor, insira números válidos.")
                continue

            # Realiza a operação correspondente
            if opcao == '1':
                resultado = num1 + num2
                print(f"O resultado da soma é: {resultado}")
            elif opcao == '2':
                resultado = num1 - num2
                print(f"O resultado da subtração é: {resultado}")
            elif opcao == '3':
                resultado = num1 * num2
                print(f"O resultado da multiplicação é: {resultado}")
            elif opcao == '4':
                if num2 == 0:
                    print("Erro: Divisão por zero!")
                else:
                    resultado = num1 / num2
                    print(f"O resultado da divisão é: {resultado}")
        else:
            print("Essa opção não existe")

# Chama a função calculadora
calculadora()
