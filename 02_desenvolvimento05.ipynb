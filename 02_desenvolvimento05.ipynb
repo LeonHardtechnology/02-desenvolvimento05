{
  "nbformat": 4,
  "nbformat_minor": 0,
  "metadata": {
    "colab": {
      "provenance": [],
      "authorship_tag": "ABX9TyMG/MxAlrEdk8WzcEczuPh1",
      "include_colab_link": true
    },
    "kernelspec": {
      "name": "python3",
      "display_name": "Python 3"
    },
    "language_info": {
      "name": "python"
    }
  },
  "cells": [
    {
      "cell_type": "markdown",
      "metadata": {
        "id": "view-in-github",
        "colab_type": "text"
      },
      "source": [
        "<a href=\"https://colab.research.google.com/github/LeonHardtechnology/02-desenvolvimento05/blob/main/02_desenvolvimento05.ipynb\" target=\"_parent\"><img src=\"https://colab.research.google.com/assets/colab-badge.svg\" alt=\"Open In Colab\"/></a>"
      ]
    },
    {
      "cell_type": "code",
      "execution_count": 1,
      "metadata": {
        "colab": {
          "base_uri": "https://localhost:8080/"
        },
        "id": "fvlwkwVoWuh5",
        "outputId": "b132da22-7c95-4f15-8130-9e71a0e5f3d6"
      },
      "outputs": [
        {
          "output_type": "stream",
          "name": "stdout",
          "text": [
            "Digite seu nome completo: leonardo ferreira da silva junior\n",
            "Digite seu ano de nascimento (entre 1922 e 2021): 1994\n",
            "leonardo ferreira da silva junior, você completou ou completará 28 anos em 2022.\n"
          ]
        }
      ],
      "source": [
        "def obter_nome():\n",
        "    nome = input(\"Digite seu nome completo: \")\n",
        "    return nome\n",
        "\n",
        "def obter_ano_nascimento():\n",
        "    while True:\n",
        "        ano = input(\"Digite seu ano de nascimento (entre 1922 e 2021): \")\n",
        "        try:\n",
        "            ano = int(ano)\n",
        "            if 1922 <= ano <= 2021:\n",
        "                return ano\n",
        "            else:\n",
        "                print(\"Erro: O ano deve estar entre 1922 e 2021.\")\n",
        "        except ValueError:\n",
        "            print(\"Erro: Por favor, digite um número válido.\")\n",
        "\n",
        "def calcular_idade(ano_nascimento):\n",
        "    ano_atual = 2022\n",
        "    idade = ano_atual - ano_nascimento\n",
        "    return idade\n",
        "\n",
        "def main():\n",
        "    nome = obter_nome()\n",
        "    ano_nascimento = obter_ano_nascimento()\n",
        "    idade = calcular_idade(ano_nascimento)\n",
        "    print(f\"{nome}, você completou ou completará {idade} anos em 2022.\")\n",
        "\n",
        "# Executa o programa\n",
        "main()\n"
      ]
    }
  ]
}